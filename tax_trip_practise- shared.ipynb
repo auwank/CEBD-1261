{
 "cells": [
  {
   "cell_type": "code",
   "execution_count": 1,
   "metadata": {},
   "outputs": [],
   "source": [
    "# Importing required libraries & data csv\n",
    "\n",
    "import numpy as np\n",
    "import pandas as pd\n",
    "import matplotlib.pyplot as plt\n",
    "import seaborn as sns\n",
    "%matplotlib inline\n",
    "df = pd.read_csv('train.csv')\n",
    "#df.head(5)"
   ]
  },
  {
   "cell_type": "code",
   "execution_count": 2,
   "metadata": {},
   "outputs": [
    {
     "data": {
      "text/html": [
       "<div>\n",
       "<style scoped>\n",
       "    .dataframe tbody tr th:only-of-type {\n",
       "        vertical-align: middle;\n",
       "    }\n",
       "\n",
       "    .dataframe tbody tr th {\n",
       "        vertical-align: top;\n",
       "    }\n",
       "\n",
       "    .dataframe thead th {\n",
       "        text-align: right;\n",
       "    }\n",
       "</style>\n",
       "<table border=\"1\" class=\"dataframe\">\n",
       "  <thead>\n",
       "    <tr style=\"text-align: right;\">\n",
       "      <th></th>\n",
       "      <th>id</th>\n",
       "      <th>vendor_id</th>\n",
       "      <th>pickup_datetime</th>\n",
       "      <th>dropoff_datetime</th>\n",
       "      <th>passenger_count</th>\n",
       "      <th>pickup_longitude</th>\n",
       "      <th>pickup_latitude</th>\n",
       "      <th>dropoff_longitude</th>\n",
       "      <th>dropoff_latitude</th>\n",
       "      <th>store_and_fwd_flag</th>\n",
       "      <th>trip_duration</th>\n",
       "    </tr>\n",
       "  </thead>\n",
       "  <tbody>\n",
       "    <tr>\n",
       "      <th>0</th>\n",
       "      <td>id2875421</td>\n",
       "      <td>2</td>\n",
       "      <td>2016-03-14 17:24:55</td>\n",
       "      <td>2016-03-14 17:32:30</td>\n",
       "      <td>1</td>\n",
       "      <td>-73.982155</td>\n",
       "      <td>40.767937</td>\n",
       "      <td>-73.964630</td>\n",
       "      <td>40.765602</td>\n",
       "      <td>N</td>\n",
       "      <td>455</td>\n",
       "    </tr>\n",
       "    <tr>\n",
       "      <th>1</th>\n",
       "      <td>id2377394</td>\n",
       "      <td>1</td>\n",
       "      <td>2016-06-12 00:43:35</td>\n",
       "      <td>2016-06-12 00:54:38</td>\n",
       "      <td>1</td>\n",
       "      <td>-73.980415</td>\n",
       "      <td>40.738564</td>\n",
       "      <td>-73.999481</td>\n",
       "      <td>40.731152</td>\n",
       "      <td>N</td>\n",
       "      <td>663</td>\n",
       "    </tr>\n",
       "    <tr>\n",
       "      <th>2</th>\n",
       "      <td>id3858529</td>\n",
       "      <td>2</td>\n",
       "      <td>2016-01-19 11:35:24</td>\n",
       "      <td>2016-01-19 12:10:48</td>\n",
       "      <td>1</td>\n",
       "      <td>-73.979027</td>\n",
       "      <td>40.763939</td>\n",
       "      <td>-74.005333</td>\n",
       "      <td>40.710087</td>\n",
       "      <td>N</td>\n",
       "      <td>2124</td>\n",
       "    </tr>\n",
       "    <tr>\n",
       "      <th>3</th>\n",
       "      <td>id3504673</td>\n",
       "      <td>2</td>\n",
       "      <td>2016-04-06 19:32:31</td>\n",
       "      <td>2016-04-06 19:39:40</td>\n",
       "      <td>1</td>\n",
       "      <td>-74.010040</td>\n",
       "      <td>40.719971</td>\n",
       "      <td>-74.012268</td>\n",
       "      <td>40.706718</td>\n",
       "      <td>N</td>\n",
       "      <td>429</td>\n",
       "    </tr>\n",
       "    <tr>\n",
       "      <th>4</th>\n",
       "      <td>id2181028</td>\n",
       "      <td>2</td>\n",
       "      <td>2016-03-26 13:30:55</td>\n",
       "      <td>2016-03-26 13:38:10</td>\n",
       "      <td>1</td>\n",
       "      <td>-73.973053</td>\n",
       "      <td>40.793209</td>\n",
       "      <td>-73.972923</td>\n",
       "      <td>40.782520</td>\n",
       "      <td>N</td>\n",
       "      <td>435</td>\n",
       "    </tr>\n",
       "  </tbody>\n",
       "</table>\n",
       "</div>"
      ],
      "text/plain": [
       "          id  vendor_id      pickup_datetime     dropoff_datetime  \\\n",
       "0  id2875421          2  2016-03-14 17:24:55  2016-03-14 17:32:30   \n",
       "1  id2377394          1  2016-06-12 00:43:35  2016-06-12 00:54:38   \n",
       "2  id3858529          2  2016-01-19 11:35:24  2016-01-19 12:10:48   \n",
       "3  id3504673          2  2016-04-06 19:32:31  2016-04-06 19:39:40   \n",
       "4  id2181028          2  2016-03-26 13:30:55  2016-03-26 13:38:10   \n",
       "\n",
       "   passenger_count  pickup_longitude  pickup_latitude  dropoff_longitude  \\\n",
       "0                1        -73.982155        40.767937         -73.964630   \n",
       "1                1        -73.980415        40.738564         -73.999481   \n",
       "2                1        -73.979027        40.763939         -74.005333   \n",
       "3                1        -74.010040        40.719971         -74.012268   \n",
       "4                1        -73.973053        40.793209         -73.972923   \n",
       "\n",
       "   dropoff_latitude store_and_fwd_flag  trip_duration  \n",
       "0         40.765602                  N            455  \n",
       "1         40.731152                  N            663  \n",
       "2         40.710087                  N           2124  \n",
       "3         40.706718                  N            429  \n",
       "4         40.782520                  N            435  "
      ]
     },
     "execution_count": 2,
     "metadata": {},
     "output_type": "execute_result"
    }
   ],
   "source": [
    "df.head()"
   ]
  },
  {
   "cell_type": "code",
   "execution_count": 3,
   "metadata": {},
   "outputs": [
    {
     "name": "stdout",
     "output_type": "stream",
     "text": [
      "<class 'pandas.core.frame.DataFrame'>\n",
      "RangeIndex: 1458644 entries, 0 to 1458643\n",
      "Data columns (total 11 columns):\n",
      "id                    1458644 non-null object\n",
      "vendor_id             1458644 non-null int64\n",
      "pickup_datetime       1458644 non-null object\n",
      "dropoff_datetime      1458644 non-null object\n",
      "passenger_count       1458644 non-null int64\n",
      "pickup_longitude      1458644 non-null float64\n",
      "pickup_latitude       1458644 non-null float64\n",
      "dropoff_longitude     1458644 non-null float64\n",
      "dropoff_latitude      1458644 non-null float64\n",
      "store_and_fwd_flag    1458644 non-null object\n",
      "trip_duration         1458644 non-null int64\n",
      "dtypes: float64(4), int64(3), object(4)\n",
      "memory usage: 122.4+ MB\n"
     ]
    }
   ],
   "source": [
    "df.info()"
   ]
  },
  {
   "cell_type": "code",
   "execution_count": 4,
   "metadata": {},
   "outputs": [
    {
     "data": {
      "text/html": [
       "<div>\n",
       "<style scoped>\n",
       "    .dataframe tbody tr th:only-of-type {\n",
       "        vertical-align: middle;\n",
       "    }\n",
       "\n",
       "    .dataframe tbody tr th {\n",
       "        vertical-align: top;\n",
       "    }\n",
       "\n",
       "    .dataframe thead th {\n",
       "        text-align: right;\n",
       "    }\n",
       "</style>\n",
       "<table border=\"1\" class=\"dataframe\">\n",
       "  <thead>\n",
       "    <tr style=\"text-align: right;\">\n",
       "      <th></th>\n",
       "      <th>id</th>\n",
       "      <th>vendor_id</th>\n",
       "      <th>pickup_datetime</th>\n",
       "      <th>dropoff_datetime</th>\n",
       "      <th>passenger_count</th>\n",
       "      <th>pickup_longitude</th>\n",
       "      <th>pickup_latitude</th>\n",
       "      <th>dropoff_longitude</th>\n",
       "      <th>dropoff_latitude</th>\n",
       "      <th>store_and_fwd_flag</th>\n",
       "      <th>trip_duration</th>\n",
       "      <th>dist</th>\n",
       "      <th>Avg_Speed</th>\n",
       "      <th>pickup_hour</th>\n",
       "      <th>pickup_month</th>\n",
       "      <th>dayofweek</th>\n",
       "    </tr>\n",
       "  </thead>\n",
       "  <tbody>\n",
       "    <tr>\n",
       "      <th>0</th>\n",
       "      <td>id2875421</td>\n",
       "      <td>2</td>\n",
       "      <td>2016-03-14 17:24:55</td>\n",
       "      <td>2016-03-14 17:32:30</td>\n",
       "      <td>1</td>\n",
       "      <td>-73.9822</td>\n",
       "      <td>40.7679</td>\n",
       "      <td>-73.9646</td>\n",
       "      <td>40.7656</td>\n",
       "      <td>0</td>\n",
       "      <td>455</td>\n",
       "      <td>1.504579</td>\n",
       "      <td>11.904361</td>\n",
       "      <td>17</td>\n",
       "      <td>3</td>\n",
       "      <td>0</td>\n",
       "    </tr>\n",
       "    <tr>\n",
       "      <th>1</th>\n",
       "      <td>id2377394</td>\n",
       "      <td>1</td>\n",
       "      <td>2016-06-12 00:43:35</td>\n",
       "      <td>2016-06-12 00:54:38</td>\n",
       "      <td>1</td>\n",
       "      <td>-73.9804</td>\n",
       "      <td>40.7386</td>\n",
       "      <td>-73.9995</td>\n",
       "      <td>40.7312</td>\n",
       "      <td>0</td>\n",
       "      <td>663</td>\n",
       "      <td>1.808028</td>\n",
       "      <td>9.817347</td>\n",
       "      <td>0</td>\n",
       "      <td>6</td>\n",
       "      <td>6</td>\n",
       "    </tr>\n",
       "    <tr>\n",
       "      <th>2</th>\n",
       "      <td>id3858529</td>\n",
       "      <td>2</td>\n",
       "      <td>2016-01-19 11:35:24</td>\n",
       "      <td>2016-01-19 12:10:48</td>\n",
       "      <td>1</td>\n",
       "      <td>-73.9790</td>\n",
       "      <td>40.7639</td>\n",
       "      <td>-74.0053</td>\n",
       "      <td>40.7101</td>\n",
       "      <td>0</td>\n",
       "      <td>2124</td>\n",
       "      <td>6.381490</td>\n",
       "      <td>10.816086</td>\n",
       "      <td>11</td>\n",
       "      <td>1</td>\n",
       "      <td>1</td>\n",
       "    </tr>\n",
       "    <tr>\n",
       "      <th>3</th>\n",
       "      <td>id3504673</td>\n",
       "      <td>2</td>\n",
       "      <td>2016-04-06 19:32:31</td>\n",
       "      <td>2016-04-06 19:39:40</td>\n",
       "      <td>1</td>\n",
       "      <td>-74.0100</td>\n",
       "      <td>40.7200</td>\n",
       "      <td>-74.0123</td>\n",
       "      <td>40.7067</td>\n",
       "      <td>0</td>\n",
       "      <td>429</td>\n",
       "      <td>1.492012</td>\n",
       "      <td>12.520378</td>\n",
       "      <td>19</td>\n",
       "      <td>4</td>\n",
       "      <td>2</td>\n",
       "    </tr>\n",
       "    <tr>\n",
       "      <th>4</th>\n",
       "      <td>id2181028</td>\n",
       "      <td>2</td>\n",
       "      <td>2016-03-26 13:30:55</td>\n",
       "      <td>2016-03-26 13:38:10</td>\n",
       "      <td>1</td>\n",
       "      <td>-73.9731</td>\n",
       "      <td>40.7932</td>\n",
       "      <td>-73.9729</td>\n",
       "      <td>40.7825</td>\n",
       "      <td>0</td>\n",
       "      <td>435</td>\n",
       "      <td>1.190278</td>\n",
       "      <td>9.850580</td>\n",
       "      <td>13</td>\n",
       "      <td>3</td>\n",
       "      <td>5</td>\n",
       "    </tr>\n",
       "  </tbody>\n",
       "</table>\n",
       "</div>"
      ],
      "text/plain": [
       "          id  vendor_id     pickup_datetime     dropoff_datetime  \\\n",
       "0  id2875421          2 2016-03-14 17:24:55  2016-03-14 17:32:30   \n",
       "1  id2377394          1 2016-06-12 00:43:35  2016-06-12 00:54:38   \n",
       "2  id3858529          2 2016-01-19 11:35:24  2016-01-19 12:10:48   \n",
       "3  id3504673          2 2016-04-06 19:32:31  2016-04-06 19:39:40   \n",
       "4  id2181028          2 2016-03-26 13:30:55  2016-03-26 13:38:10   \n",
       "\n",
       "   passenger_count  pickup_longitude  pickup_latitude  dropoff_longitude  \\\n",
       "0                1          -73.9822          40.7679           -73.9646   \n",
       "1                1          -73.9804          40.7386           -73.9995   \n",
       "2                1          -73.9790          40.7639           -74.0053   \n",
       "3                1          -74.0100          40.7200           -74.0123   \n",
       "4                1          -73.9731          40.7932           -73.9729   \n",
       "\n",
       "   dropoff_latitude  store_and_fwd_flag  trip_duration      dist  Avg_Speed  \\\n",
       "0           40.7656                   0            455  1.504579  11.904361   \n",
       "1           40.7312                   0            663  1.808028   9.817347   \n",
       "2           40.7101                   0           2124  6.381490  10.816086   \n",
       "3           40.7067                   0            429  1.492012  12.520378   \n",
       "4           40.7825                   0            435  1.190278   9.850580   \n",
       "\n",
       "   pickup_hour  pickup_month  dayofweek  \n",
       "0           17             3          0  \n",
       "1            0             6          6  \n",
       "2           11             1          1  \n",
       "3           19             4          2  \n",
       "4           13             3          5  "
      ]
     },
     "execution_count": 4,
     "metadata": {},
     "output_type": "execute_result"
    }
   ],
   "source": [
    "# Rounding off lattitude & longitude to 4 decimals which corresponds distance of about 10 meters.\n",
    "df['pickup_latitude']  = df['pickup_latitude'].apply(lambda x:round(x, 4))\n",
    "df['pickup_longitude']  = df['pickup_longitude'].apply(lambda x:round(x, 4))\n",
    "df['dropoff_latitude']  = df['dropoff_latitude'].apply(lambda x:round(x, 4))\n",
    "df['dropoff_longitude']  = df['dropoff_longitude'].apply(lambda x:round(x, 4))\n",
    "\n",
    "# Converting 'store_and_fwd_flag' to numerical\n",
    "df['store_and_fwd_flag'] = df['store_and_fwd_flag'].apply(lambda x:0 if x=='N' else 1)\n",
    "\n",
    "# Getting trip distance, average speed, pick-up hour & pick-up month.\n",
    "\n",
    "def tr_dst(x):\n",
    "    from math import sin, cos, sqrt, atan2, radians\n",
    "\n",
    "# approximate radius of earth in km\n",
    "    R = 6373.0\n",
    "\n",
    "    lat1 = radians(x[6])\n",
    "    lon1 = radians(x[5])\n",
    "    lat2 = radians(x[8])\n",
    "    lon2 = radians(x[7])\n",
    "\n",
    "    dlon = lon2 - lon1\n",
    "    dlat = lat2 - lat1\n",
    "\n",
    "    a = sin(dlat / 2)**2 + cos(lat1) * cos(lat2) * sin(dlon / 2)**2\n",
    "    c = 2 * atan2(sqrt(a), sqrt(1 - a))\n",
    "\n",
    "    return (R * c)\n",
    "\n",
    "df['dist'] = df.apply(tr_dst, axis=1)\n",
    "\n",
    "\n",
    "# Getting average speed\n",
    "def spd_f(x):\n",
    "    return (3600*(x['dist']/x['trip_duration']))\n",
    "df['Avg_Speed'] = df.apply(spd_f, axis=1)\n",
    "\n",
    "# Getting pick-up hour\n",
    "df['pickup_hour'] = df['pickup_datetime'].apply(lambda x: int(str(x.split()[1]).split(':')[0]))\n",
    "\n",
    "# Getting pick-up month\n",
    "df['pickup_month'] = df['pickup_datetime'].apply(lambda x: int(str(x.split()[0]).split('-')[1]))\n",
    "\n",
    "df['pickup_datetime'] = pd.to_datetime(df['pickup_datetime'])\n",
    "df['dayofweek'] = df['pickup_datetime'].dt.dayofweek\n",
    "#df['pickup_minutes'] = df['pickup_datetime'].dt.minute\n",
    "#df['Time_slot'] = (df['pickup_hour']*4)+(df['pickup_minutes']//15)+1\n",
    "\n",
    "df.head()"
   ]
  },
  {
   "cell_type": "code",
   "execution_count": 19,
   "metadata": {},
   "outputs": [
    {
     "data": {
      "text/plain": [
       "<matplotlib.axes._subplots.AxesSubplot at 0x25e8705b9e8>"
      ]
     },
     "execution_count": 19,
     "metadata": {},
     "output_type": "execute_result"
    },
    {
     "data": {
      "image/png": "[encoded data removed]",
      "text/plain": [
       "<Figure size 432x288 with 1 Axes>"
      ]
     },
     "metadata": {
      "needs_background": "light"
     },
     "output_type": "display_data"
    }
   ],
   "source": [
    "# Checking count according to month\n",
    "sns.countplot('pickup_month', data=df)\n",
    "# Conclusion: Number of trips per month ranges from about 225,000 (January)  to 250,000 (March). "
   ]
  },
  {
   "cell_type": "code",
   "execution_count": 20,
   "metadata": {},
   "outputs": [
    {
     "data": {
      "text/plain": [
       "<matplotlib.axes._subplots.AxesSubplot at 0x25e8d251710>"
      ]
     },
     "execution_count": 20,
     "metadata": {},
     "output_type": "execute_result"
    },
    {
     "data": {
      "image/png": "[encoded data removed]",
      "text/plain": [
       "<Figure size 360x360 with 1 Axes>"
      ]
     },
     "metadata": {
      "needs_background": "light"
     },
     "output_type": "display_data"
    }
   ],
   "source": [
    "# Checking the average speed for different months\n",
    "\n",
    "fig, axes = plt.subplots(1, 1, figsize=(5,5))\n",
    "#axes.set_ylim([80, 105])\n",
    "sns.barplot('pickup_month', 'Avg_Speed', data=df, estimator=np.mean, ax=axes)\n",
    "#Conclusion: Season/time of year doesn't affect average speed for trips"
   ]
  },
  {
   "cell_type": "code",
   "execution_count": 21,
   "metadata": {},
   "outputs": [
    {
     "data": {
      "text/plain": [
       "<matplotlib.axes._subplots.AxesSubplot at 0x25e8d2fa400>"
      ]
     },
     "execution_count": 21,
     "metadata": {},
     "output_type": "execute_result"
    },
    {
     "data": {
      "image/png": "[encoded data removed]",
      "text/plain": [
       "<Figure size 432x288 with 1 Axes>"
      ]
     },
     "metadata": {
      "needs_background": "light"
     },
     "output_type": "display_data"
    }
   ],
   "source": [
    "# Checking count according to hour\n",
    "sns.countplot('pickup_hour', data=df, hue='vendor_id')\n",
    "# Conclusion: The busiest hours are between 18:00 & 23:00. Between 3:00 to 6:00, the trips are the least."
   ]
  },
  {
   "cell_type": "code",
   "execution_count": 22,
   "metadata": {},
   "outputs": [
    {
     "data": {
      "text/plain": [
       "<matplotlib.axes._subplots.AxesSubplot at 0x25e9837cb00>"
      ]
     },
     "execution_count": 22,
     "metadata": {},
     "output_type": "execute_result"
    },
    {
     "data": {
      "image/png": "[encoded data removed]",
      "text/plain": [
       "<Figure size 360x360 with 1 Axes>"
      ]
     },
     "metadata": {
      "needs_background": "light"
     },
     "output_type": "display_data"
    }
   ],
   "source": [
    "# Checking the average speed according to hour\n",
    "\n",
    "fig, axes = plt.subplots(1, 1, figsize=(5,5))\n",
    "#axes.set_ylim([80, 105])\n",
    "sns.barplot('pickup_hour', 'Avg_Speed', data=df, estimator=np.mean, ax=axes, hue = 'vendor_id')\n",
    "\n",
    "# Conclusion: Maximum speed is between 3:00 to 7:00 (due to less traffic probably!). Trips are slowest between 8:00 & 19:00"
   ]
  },
  {
   "cell_type": "code",
   "execution_count": 5,
   "metadata": {},
   "outputs": [],
   "source": [
    "# Checking Avg_Speed more than 100km/hour # len(df[df['Avg_Speed']>100])/len(df['Avg_Speed']) # 0.000033% trips have Avg_Speed more than 100km/hour\n",
    "# Checking Avg_Speed less than 1km/hour # len(df[df['Avg_Speed']<1])/len(df['Avg_Speed']) # 0.5% trips have Avg_Speed less than 1km/hour\n",
    "\n",
    "# Dropping data with Avg_Speed more than 100km/hour & less than 1km/hour\n",
    "df = df[(df['Avg_Speed']<100) & (df['Avg_Speed']>1)]\n",
    "\n",
    "# Checking trip duration more than 1 hour #len(df[df['trip_duration']>3600])/len(df['trip_duration']) # 0.8% trips are more than 1 hour\n",
    "\n",
    "# Checking trip duration less than 2 minute #len(df[df['trip_duration']<120])/len(df['trip_duration']) # 1.9% trips are less than 2 minute\n",
    "\n",
    "# Dropping data with trip duration more than 1 hour & less than 2 minutes.\n",
    "df = df[(df['trip_duration']<3600) & (df['trip_duration']>120)]\n",
    "\n",
    "# Dropping trips with distance less than 50 meters\n",
    "df = df[df['dist']>.05]"
   ]
  },
  {
   "cell_type": "code",
   "execution_count": 6,
   "metadata": {},
   "outputs": [
    {
     "name": "stdout",
     "output_type": "stream",
     "text": [
      "<class 'pandas.core.frame.DataFrame'>\n",
      "Int64Index: 1410722 entries, 0 to 1458643\n",
      "Data columns (total 16 columns):\n",
      "id                    1410722 non-null object\n",
      "vendor_id             1410722 non-null int64\n",
      "pickup_datetime       1410722 non-null datetime64[ns]\n",
      "dropoff_datetime      1410722 non-null object\n",
      "passenger_count       1410722 non-null int64\n",
      "pickup_longitude      1410722 non-null float64\n",
      "pickup_latitude       1410722 non-null float64\n",
      "dropoff_longitude     1410722 non-null float64\n",
      "dropoff_latitude      1410722 non-null float64\n",
      "store_and_fwd_flag    1410722 non-null int64\n",
      "trip_duration         1410722 non-null int64\n",
      "dist                  1410722 non-null float64\n",
      "Avg_Speed             1410722 non-null float64\n",
      "pickup_hour           1410722 non-null int64\n",
      "pickup_month          1410722 non-null int64\n",
      "dayofweek             1410722 non-null int64\n",
      "dtypes: datetime64[ns](1), float64(6), int64(7), object(2)\n",
      "memory usage: 183.0+ MB\n"
     ]
    }
   ],
   "source": [
    "df.info()\n",
    "#1458644 entries (before) # 1410722 entries (after)   # Approx 3.3% rows are dropped"
   ]
  },
  {
   "cell_type": "code",
   "execution_count": 7,
   "metadata": {},
   "outputs": [
    {
     "data": {
      "text/html": [
       "<div>\n",
       "<style scoped>\n",
       "    .dataframe tbody tr th:only-of-type {\n",
       "        vertical-align: middle;\n",
       "    }\n",
       "\n",
       "    .dataframe tbody tr th {\n",
       "        vertical-align: top;\n",
       "    }\n",
       "\n",
       "    .dataframe thead th {\n",
       "        text-align: right;\n",
       "    }\n",
       "</style>\n",
       "<table border=\"1\" class=\"dataframe\">\n",
       "  <thead>\n",
       "    <tr style=\"text-align: right;\">\n",
       "      <th></th>\n",
       "      <th>vendor_id</th>\n",
       "      <th>passenger_count</th>\n",
       "      <th>pickup_longitude</th>\n",
       "      <th>pickup_latitude</th>\n",
       "      <th>dropoff_longitude</th>\n",
       "      <th>dropoff_latitude</th>\n",
       "      <th>store_and_fwd_flag</th>\n",
       "      <th>trip_duration</th>\n",
       "      <th>dist</th>\n",
       "      <th>pickup_hour</th>\n",
       "      <th>pickup_month</th>\n",
       "      <th>dayofweek</th>\n",
       "    </tr>\n",
       "  </thead>\n",
       "  <tbody>\n",
       "    <tr>\n",
       "      <th>0</th>\n",
       "      <td>2</td>\n",
       "      <td>1</td>\n",
       "      <td>-73.9822</td>\n",
       "      <td>40.7679</td>\n",
       "      <td>-73.9646</td>\n",
       "      <td>40.7656</td>\n",
       "      <td>0</td>\n",
       "      <td>455</td>\n",
       "      <td>1.504579</td>\n",
       "      <td>17</td>\n",
       "      <td>3</td>\n",
       "      <td>0</td>\n",
       "    </tr>\n",
       "    <tr>\n",
       "      <th>1</th>\n",
       "      <td>1</td>\n",
       "      <td>1</td>\n",
       "      <td>-73.9804</td>\n",
       "      <td>40.7386</td>\n",
       "      <td>-73.9995</td>\n",
       "      <td>40.7312</td>\n",
       "      <td>0</td>\n",
       "      <td>663</td>\n",
       "      <td>1.808028</td>\n",
       "      <td>0</td>\n",
       "      <td>6</td>\n",
       "      <td>6</td>\n",
       "    </tr>\n",
       "    <tr>\n",
       "      <th>2</th>\n",
       "      <td>2</td>\n",
       "      <td>1</td>\n",
       "      <td>-73.9790</td>\n",
       "      <td>40.7639</td>\n",
       "      <td>-74.0053</td>\n",
       "      <td>40.7101</td>\n",
       "      <td>0</td>\n",
       "      <td>2124</td>\n",
       "      <td>6.381490</td>\n",
       "      <td>11</td>\n",
       "      <td>1</td>\n",
       "      <td>1</td>\n",
       "    </tr>\n",
       "    <tr>\n",
       "      <th>3</th>\n",
       "      <td>2</td>\n",
       "      <td>1</td>\n",
       "      <td>-74.0100</td>\n",
       "      <td>40.7200</td>\n",
       "      <td>-74.0123</td>\n",
       "      <td>40.7067</td>\n",
       "      <td>0</td>\n",
       "      <td>429</td>\n",
       "      <td>1.492012</td>\n",
       "      <td>19</td>\n",
       "      <td>4</td>\n",
       "      <td>2</td>\n",
       "    </tr>\n",
       "    <tr>\n",
       "      <th>4</th>\n",
       "      <td>2</td>\n",
       "      <td>1</td>\n",
       "      <td>-73.9731</td>\n",
       "      <td>40.7932</td>\n",
       "      <td>-73.9729</td>\n",
       "      <td>40.7825</td>\n",
       "      <td>0</td>\n",
       "      <td>435</td>\n",
       "      <td>1.190278</td>\n",
       "      <td>13</td>\n",
       "      <td>3</td>\n",
       "      <td>5</td>\n",
       "    </tr>\n",
       "  </tbody>\n",
       "</table>\n",
       "</div>"
      ],
      "text/plain": [
       "   vendor_id  passenger_count  pickup_longitude  pickup_latitude  \\\n",
       "0          2                1          -73.9822          40.7679   \n",
       "1          1                1          -73.9804          40.7386   \n",
       "2          2                1          -73.9790          40.7639   \n",
       "3          2                1          -74.0100          40.7200   \n",
       "4          2                1          -73.9731          40.7932   \n",
       "\n",
       "   dropoff_longitude  dropoff_latitude  store_and_fwd_flag  trip_duration  \\\n",
       "0           -73.9646           40.7656                   0            455   \n",
       "1           -73.9995           40.7312                   0            663   \n",
       "2           -74.0053           40.7101                   0           2124   \n",
       "3           -74.0123           40.7067                   0            429   \n",
       "4           -73.9729           40.7825                   0            435   \n",
       "\n",
       "       dist  pickup_hour  pickup_month  dayofweek  \n",
       "0  1.504579           17             3          0  \n",
       "1  1.808028            0             6          6  \n",
       "2  6.381490           11             1          1  \n",
       "3  1.492012           19             4          2  \n",
       "4  1.190278           13             3          5  "
      ]
     },
     "execution_count": 7,
     "metadata": {},
     "output_type": "execute_result"
    }
   ],
   "source": [
    "df_clean = df.drop(['id','pickup_datetime', 'dropoff_datetime', 'Avg_Speed'], axis=1)\n",
    "df_clean.head()"
   ]
  },
  {
   "cell_type": "code",
   "execution_count": 8,
   "metadata": {},
   "outputs": [],
   "source": [
    "# get input and target from your data, X is the input, y is the target\n",
    "y = df_clean['trip_duration'].values # define target \n",
    "X = df_clean.drop(['trip_duration','passenger_count'], axis =1)"
   ]
  },
  {
   "cell_type": "code",
   "execution_count": 9,
   "metadata": {},
   "outputs": [
    {
     "name": "stdout",
     "output_type": "stream",
     "text": [
      "(987505, 10) (423217, 10) 987505 423217\n"
     ]
    }
   ],
   "source": [
    "## Activity 3:  split total data by train, test and validation\n",
    "\n",
    "from sklearn.model_selection import train_test_split\n",
    "\n",
    "# split 30% data as test data\n",
    "train_X,test_X,train_y,test_y = train_test_split(X,y,shuffle=True,random_state=2019,test_size=0.3)\n",
    "print(train_X.shape,test_X.shape,len(train_y),len(test_y))"
   ]
  },
  {
   "cell_type": "code",
   "execution_count": 10,
   "metadata": {},
   "outputs": [],
   "source": [
    "from sklearn.ensemble import RandomForestRegressor\n",
    "\n",
    "model = RandomForestRegressor(n_estimators=40,max_depth=8)"
   ]
  },
  {
   "cell_type": "code",
   "execution_count": 11,
   "metadata": {},
   "outputs": [
    {
     "name": "stdout",
     "output_type": "stream",
     "text": [
      "Wall time: 2min 17s\n"
     ]
    },
    {
     "data": {
      "text/plain": [
       "RandomForestRegressor(bootstrap=True, criterion='mse', max_depth=8,\n",
       "           max_features='auto', max_leaf_nodes=None,\n",
       "           min_impurity_decrease=0.0, min_impurity_split=None,\n",
       "           min_samples_leaf=1, min_samples_split=2,\n",
       "           min_weight_fraction_leaf=0.0, n_estimators=40, n_jobs=None,\n",
       "           oob_score=False, random_state=None, verbose=0, warm_start=False)"
      ]
     },
     "execution_count": 11,
     "metadata": {},
     "output_type": "execute_result"
    }
   ],
   "source": [
    "%%time\n",
    "model.fit(train_X,train_y)"
   ]
  },
  {
   "cell_type": "code",
   "execution_count": 12,
   "metadata": {},
   "outputs": [],
   "source": [
    "pred_y = model.predict(test_X)"
   ]
  },
  {
   "cell_type": "code",
   "execution_count": 13,
   "metadata": {},
   "outputs": [
    {
     "data": {
      "text/plain": [
       "0.3716072271290136"
      ]
     },
     "execution_count": 13,
     "metadata": {},
     "output_type": "execute_result"
    }
   ],
   "source": [
    "from sklearn.metrics import mean_squared_log_error\n",
    "np.sqrt(mean_squared_log_error(test_y,pred_y ))\n",
    "# 0.3716"
   ]
  },
  {
   "cell_type": "code",
   "execution_count": 14,
   "metadata": {},
   "outputs": [
    {
     "data": {
      "text/plain": [
       "array([ 285,  352,  697, 1931,  472,  224,  735, 1494,  432, 1067],\n",
       "      dtype=int64)"
      ]
     },
     "execution_count": 14,
     "metadata": {},
     "output_type": "execute_result"
    }
   ],
   "source": [
    "test_y[:10]"
   ]
  },
  {
   "cell_type": "code",
   "execution_count": 15,
   "metadata": {},
   "outputs": [
    {
     "data": {
      "text/plain": [
       "array([ 338.40411563,  469.34420453,  566.28512461, 2190.03830428,\n",
       "        431.61603503,  506.90677162,  638.13197809, 1731.59770921,\n",
       "        274.63397801, 1205.40939153])"
      ]
     },
     "execution_count": 15,
     "metadata": {},
     "output_type": "execute_result"
    }
   ],
   "source": [
    "pred_y[:10]"
   ]
  },
  {
   "cell_type": "code",
   "execution_count": 17,
   "metadata": {},
   "outputs": [],
   "source": [
    "# Applying k-Fold Cross Validation\n",
    "from sklearn.model_selection import cross_val_score\n",
    "accuracies = cross_val_score(estimator = model, X = X, y = y, cv = 5)\n",
    "#accuracies.mean()\n",
    "#accuracies.std()"
   ]
  },
  {
   "cell_type": "code",
   "execution_count": 18,
   "metadata": {},
   "outputs": [
    {
     "name": "stdout",
     "output_type": "stream",
     "text": [
      "The accuracies are: [0.72339418 0.72319598 0.72507849 0.72612441 0.72631671]\n",
      "The std deviation for accuracies are: 0.0013174843738094765\n",
      "The average of accuracies are: 0.7248219536778395\n"
     ]
    }
   ],
   "source": [
    "print(f'The accuracies are: {accuracies}')\n",
    "print(f'The std deviation for accuracies are: {accuracies.std()}')\n",
    "print(f'The average of accuracies are: {accuracies.mean()}')"
   ]
  }
 ],
 "metadata": {
  "kernelspec": {
   "display_name": "Python 3",
   "language": "python",
   "name": "python3"
  },
  "language_info": {
   "codemirror_mode": {
    "name": "ipython",
    "version": 3
   },
   "file_extension": ".py",
   "mimetype": "text/x-python",
   "name": "python",
   "nbconvert_exporter": "python",
   "pygments_lexer": "ipython3",
   "version": "3.7.3"
  }
 },
 "nbformat": 4,
 "nbformat_minor": 2
}
